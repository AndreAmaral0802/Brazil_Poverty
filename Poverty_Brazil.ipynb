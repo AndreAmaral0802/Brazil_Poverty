{
 "cells": [
  {
   "cell_type": "markdown",
   "id": "bbb8aa86",
   "metadata": {},
   "source": [
    "# Poverty in Brazil Analysis from 2016 - 2020\n",
    "\n",
    "## Topics to analyse\n",
    "\n",
    "### Poverty by gender:\n",
    "\n",
    "### 1 - Gender\n",
    "### 2 - Age\n",
    "### 3 - Education\n",
    "### 4 - Region\n",
    "### 5 - Skin Color\n",
    "### 6 - Work Situation\n",
    "### 7 - Poverty"
   ]
  },
  {
   "cell_type": "code",
   "execution_count": 1,
   "id": "45f3a4e2",
   "metadata": {},
   "outputs": [],
   "source": [
    "# Import the library \n",
    "import pandas as pd"
   ]
  },
  {
   "cell_type": "code",
   "execution_count": 2,
   "id": "925894c1",
   "metadata": {},
   "outputs": [
    {
     "data": {
      "text/html": [
       "<div>\n",
       "<style scoped>\n",
       "    .dataframe tbody tr th:only-of-type {\n",
       "        vertical-align: middle;\n",
       "    }\n",
       "\n",
       "    .dataframe tbody tr th {\n",
       "        vertical-align: top;\n",
       "    }\n",
       "\n",
       "    .dataframe thead th {\n",
       "        text-align: right;\n",
       "    }\n",
       "</style>\n",
       "<table border=\"1\" class=\"dataframe\">\n",
       "  <thead>\n",
       "    <tr style=\"text-align: right;\">\n",
       "      <th></th>\n",
       "      <th>woman</th>\n",
       "      <th>age</th>\n",
       "      <th>education</th>\n",
       "      <th>work</th>\n",
       "      <th>metropolitan_area</th>\n",
       "      <th>non_white</th>\n",
       "      <th>urban</th>\n",
       "      <th>work_permit</th>\n",
       "      <th>poverty</th>\n",
       "    </tr>\n",
       "  </thead>\n",
       "  <tbody>\n",
       "    <tr>\n",
       "      <th>0</th>\n",
       "      <td>0</td>\n",
       "      <td>59</td>\n",
       "      <td>5</td>\n",
       "      <td>8</td>\n",
       "      <td>1</td>\n",
       "      <td>1.0</td>\n",
       "      <td>1</td>\n",
       "      <td>2</td>\n",
       "      <td>0</td>\n",
       "    </tr>\n",
       "    <tr>\n",
       "      <th>1</th>\n",
       "      <td>0</td>\n",
       "      <td>21</td>\n",
       "      <td>5</td>\n",
       "      <td>8</td>\n",
       "      <td>1</td>\n",
       "      <td>0.0</td>\n",
       "      <td>1</td>\n",
       "      <td>0</td>\n",
       "      <td>0</td>\n",
       "    </tr>\n",
       "    <tr>\n",
       "      <th>2</th>\n",
       "      <td>0</td>\n",
       "      <td>59</td>\n",
       "      <td>2</td>\n",
       "      <td>9</td>\n",
       "      <td>1</td>\n",
       "      <td>1.0</td>\n",
       "      <td>1</td>\n",
       "      <td>1</td>\n",
       "      <td>0</td>\n",
       "    </tr>\n",
       "    <tr>\n",
       "      <th>3</th>\n",
       "      <td>1</td>\n",
       "      <td>58</td>\n",
       "      <td>5</td>\n",
       "      <td>8</td>\n",
       "      <td>1</td>\n",
       "      <td>1.0</td>\n",
       "      <td>1</td>\n",
       "      <td>2</td>\n",
       "      <td>0</td>\n",
       "    </tr>\n",
       "    <tr>\n",
       "      <th>4</th>\n",
       "      <td>1</td>\n",
       "      <td>56</td>\n",
       "      <td>2</td>\n",
       "      <td>9</td>\n",
       "      <td>1</td>\n",
       "      <td>1.0</td>\n",
       "      <td>1</td>\n",
       "      <td>1</td>\n",
       "      <td>0</td>\n",
       "    </tr>\n",
       "    <tr>\n",
       "      <th>...</th>\n",
       "      <td>...</td>\n",
       "      <td>...</td>\n",
       "      <td>...</td>\n",
       "      <td>...</td>\n",
       "      <td>...</td>\n",
       "      <td>...</td>\n",
       "      <td>...</td>\n",
       "      <td>...</td>\n",
       "      <td>...</td>\n",
       "    </tr>\n",
       "    <tr>\n",
       "      <th>20747</th>\n",
       "      <td>1</td>\n",
       "      <td>46</td>\n",
       "      <td>4</td>\n",
       "      <td>11</td>\n",
       "      <td>1</td>\n",
       "      <td>1.0</td>\n",
       "      <td>1</td>\n",
       "      <td>0</td>\n",
       "      <td>0</td>\n",
       "    </tr>\n",
       "    <tr>\n",
       "      <th>20748</th>\n",
       "      <td>0</td>\n",
       "      <td>47</td>\n",
       "      <td>1</td>\n",
       "      <td>3</td>\n",
       "      <td>1</td>\n",
       "      <td>0.0</td>\n",
       "      <td>1</td>\n",
       "      <td>2</td>\n",
       "      <td>0</td>\n",
       "    </tr>\n",
       "    <tr>\n",
       "      <th>20749</th>\n",
       "      <td>0</td>\n",
       "      <td>41</td>\n",
       "      <td>7</td>\n",
       "      <td>4</td>\n",
       "      <td>1</td>\n",
       "      <td>1.0</td>\n",
       "      <td>1</td>\n",
       "      <td>1</td>\n",
       "      <td>0</td>\n",
       "    </tr>\n",
       "    <tr>\n",
       "      <th>20750</th>\n",
       "      <td>1</td>\n",
       "      <td>42</td>\n",
       "      <td>7</td>\n",
       "      <td>7</td>\n",
       "      <td>1</td>\n",
       "      <td>1.0</td>\n",
       "      <td>1</td>\n",
       "      <td>1</td>\n",
       "      <td>0</td>\n",
       "    </tr>\n",
       "    <tr>\n",
       "      <th>20751</th>\n",
       "      <td>0</td>\n",
       "      <td>49</td>\n",
       "      <td>5</td>\n",
       "      <td>8</td>\n",
       "      <td>1</td>\n",
       "      <td>1.0</td>\n",
       "      <td>1</td>\n",
       "      <td>2</td>\n",
       "      <td>0</td>\n",
       "    </tr>\n",
       "  </tbody>\n",
       "</table>\n",
       "<p>20752 rows × 9 columns</p>\n",
       "</div>"
      ],
      "text/plain": [
       "       woman  age  education  work  metropolitan_area  non_white  urban  \\\n",
       "0          0   59          5     8                  1        1.0      1   \n",
       "1          0   21          5     8                  1        0.0      1   \n",
       "2          0   59          2     9                  1        1.0      1   \n",
       "3          1   58          5     8                  1        1.0      1   \n",
       "4          1   56          2     9                  1        1.0      1   \n",
       "...      ...  ...        ...   ...                ...        ...    ...   \n",
       "20747      1   46          4    11                  1        1.0      1   \n",
       "20748      0   47          1     3                  1        0.0      1   \n",
       "20749      0   41          7     4                  1        1.0      1   \n",
       "20750      1   42          7     7                  1        1.0      1   \n",
       "20751      0   49          5     8                  1        1.0      1   \n",
       "\n",
       "       work_permit  poverty  \n",
       "0                2        0  \n",
       "1                0        0  \n",
       "2                1        0  \n",
       "3                2        0  \n",
       "4                1        0  \n",
       "...            ...      ...  \n",
       "20747            0        0  \n",
       "20748            2        0  \n",
       "20749            1        0  \n",
       "20750            1        0  \n",
       "20751            2        0  \n",
       "\n",
       "[20752 rows x 9 columns]"
      ]
     },
     "execution_count": 2,
     "metadata": {},
     "output_type": "execute_result"
    }
   ],
   "source": [
    "df = pd.read_csv('C:/Andre files/Brazil Poverty/archive/poverty_brazil.csv')\n",
    "df"
   ]
  },
  {
   "cell_type": "markdown",
   "id": "5a1d2fed",
   "metadata": {},
   "source": [
    "### Data cleaning and preparation\n",
    "\n",
    "#### - Look at some information about this data\n",
    "#### - Fix any missing data"
   ]
  },
  {
   "cell_type": "code",
   "execution_count": 3,
   "id": "ae577098",
   "metadata": {},
   "outputs": [
    {
     "name": "stdout",
     "output_type": "stream",
     "text": [
      "<class 'pandas.core.frame.DataFrame'>\n",
      "RangeIndex: 20752 entries, 0 to 20751\n",
      "Data columns (total 9 columns):\n",
      " #   Column             Non-Null Count  Dtype  \n",
      "---  ------             --------------  -----  \n",
      " 0   woman              20752 non-null  int64  \n",
      " 1   age                20752 non-null  int64  \n",
      " 2   education          20752 non-null  int64  \n",
      " 3   work               20752 non-null  int64  \n",
      " 4   metropolitan_area  20752 non-null  int64  \n",
      " 5   non_white          20751 non-null  float64\n",
      " 6   urban              20752 non-null  int64  \n",
      " 7   work_permit        20752 non-null  int64  \n",
      " 8   poverty            20752 non-null  int64  \n",
      "dtypes: float64(1), int64(8)\n",
      "memory usage: 1.4 MB\n"
     ]
    }
   ],
   "source": [
    "df.info()"
   ]
  },
  {
   "cell_type": "code",
   "execution_count": 4,
   "id": "a42c860a",
   "metadata": {},
   "outputs": [
    {
     "data": {
      "text/html": [
       "<div>\n",
       "<style scoped>\n",
       "    .dataframe tbody tr th:only-of-type {\n",
       "        vertical-align: middle;\n",
       "    }\n",
       "\n",
       "    .dataframe tbody tr th {\n",
       "        vertical-align: top;\n",
       "    }\n",
       "\n",
       "    .dataframe thead th {\n",
       "        text-align: right;\n",
       "    }\n",
       "</style>\n",
       "<table border=\"1\" class=\"dataframe\">\n",
       "  <thead>\n",
       "    <tr style=\"text-align: right;\">\n",
       "      <th></th>\n",
       "      <th>woman</th>\n",
       "      <th>age</th>\n",
       "      <th>education</th>\n",
       "      <th>work</th>\n",
       "      <th>metropolitan_area</th>\n",
       "      <th>non_white</th>\n",
       "      <th>urban</th>\n",
       "      <th>work_permit</th>\n",
       "      <th>poverty</th>\n",
       "    </tr>\n",
       "  </thead>\n",
       "  <tbody>\n",
       "    <tr>\n",
       "      <th>count</th>\n",
       "      <td>20752.000000</td>\n",
       "      <td>20752.000000</td>\n",
       "      <td>20752.000000</td>\n",
       "      <td>20752.000000</td>\n",
       "      <td>20752.000000</td>\n",
       "      <td>20751.000000</td>\n",
       "      <td>20752.000000</td>\n",
       "      <td>20752.000000</td>\n",
       "      <td>20752.000000</td>\n",
       "    </tr>\n",
       "    <tr>\n",
       "      <th>mean</th>\n",
       "      <td>0.393552</td>\n",
       "      <td>40.861845</td>\n",
       "      <td>4.533009</td>\n",
       "      <td>5.342907</td>\n",
       "      <td>0.370519</td>\n",
       "      <td>0.545612</td>\n",
       "      <td>0.786671</td>\n",
       "      <td>1.264746</td>\n",
       "      <td>0.224942</td>\n",
       "    </tr>\n",
       "    <tr>\n",
       "      <th>std</th>\n",
       "      <td>0.488549</td>\n",
       "      <td>12.598501</td>\n",
       "      <td>1.891997</td>\n",
       "      <td>3.174946</td>\n",
       "      <td>0.482955</td>\n",
       "      <td>0.497927</td>\n",
       "      <td>0.409668</td>\n",
       "      <td>0.747717</td>\n",
       "      <td>0.417554</td>\n",
       "    </tr>\n",
       "    <tr>\n",
       "      <th>min</th>\n",
       "      <td>0.000000</td>\n",
       "      <td>14.000000</td>\n",
       "      <td>1.000000</td>\n",
       "      <td>1.000000</td>\n",
       "      <td>0.000000</td>\n",
       "      <td>0.000000</td>\n",
       "      <td>0.000000</td>\n",
       "      <td>0.000000</td>\n",
       "      <td>0.000000</td>\n",
       "    </tr>\n",
       "    <tr>\n",
       "      <th>25%</th>\n",
       "      <td>0.000000</td>\n",
       "      <td>31.000000</td>\n",
       "      <td>2.000000</td>\n",
       "      <td>2.000000</td>\n",
       "      <td>0.000000</td>\n",
       "      <td>0.000000</td>\n",
       "      <td>1.000000</td>\n",
       "      <td>1.000000</td>\n",
       "      <td>0.000000</td>\n",
       "    </tr>\n",
       "    <tr>\n",
       "      <th>50%</th>\n",
       "      <td>0.000000</td>\n",
       "      <td>40.000000</td>\n",
       "      <td>5.000000</td>\n",
       "      <td>4.000000</td>\n",
       "      <td>0.000000</td>\n",
       "      <td>1.000000</td>\n",
       "      <td>1.000000</td>\n",
       "      <td>1.000000</td>\n",
       "      <td>0.000000</td>\n",
       "    </tr>\n",
       "    <tr>\n",
       "      <th>75%</th>\n",
       "      <td>1.000000</td>\n",
       "      <td>50.000000</td>\n",
       "      <td>6.000000</td>\n",
       "      <td>8.000000</td>\n",
       "      <td>1.000000</td>\n",
       "      <td>1.000000</td>\n",
       "      <td>1.000000</td>\n",
       "      <td>2.000000</td>\n",
       "      <td>0.000000</td>\n",
       "    </tr>\n",
       "    <tr>\n",
       "      <th>max</th>\n",
       "      <td>1.000000</td>\n",
       "      <td>91.000000</td>\n",
       "      <td>7.000000</td>\n",
       "      <td>12.000000</td>\n",
       "      <td>1.000000</td>\n",
       "      <td>1.000000</td>\n",
       "      <td>1.000000</td>\n",
       "      <td>2.000000</td>\n",
       "      <td>1.000000</td>\n",
       "    </tr>\n",
       "  </tbody>\n",
       "</table>\n",
       "</div>"
      ],
      "text/plain": [
       "              woman           age     education          work  \\\n",
       "count  20752.000000  20752.000000  20752.000000  20752.000000   \n",
       "mean       0.393552     40.861845      4.533009      5.342907   \n",
       "std        0.488549     12.598501      1.891997      3.174946   \n",
       "min        0.000000     14.000000      1.000000      1.000000   \n",
       "25%        0.000000     31.000000      2.000000      2.000000   \n",
       "50%        0.000000     40.000000      5.000000      4.000000   \n",
       "75%        1.000000     50.000000      6.000000      8.000000   \n",
       "max        1.000000     91.000000      7.000000     12.000000   \n",
       "\n",
       "       metropolitan_area     non_white         urban   work_permit  \\\n",
       "count       20752.000000  20751.000000  20752.000000  20752.000000   \n",
       "mean            0.370519      0.545612      0.786671      1.264746   \n",
       "std             0.482955      0.497927      0.409668      0.747717   \n",
       "min             0.000000      0.000000      0.000000      0.000000   \n",
       "25%             0.000000      0.000000      1.000000      1.000000   \n",
       "50%             0.000000      1.000000      1.000000      1.000000   \n",
       "75%             1.000000      1.000000      1.000000      2.000000   \n",
       "max             1.000000      1.000000      1.000000      2.000000   \n",
       "\n",
       "            poverty  \n",
       "count  20752.000000  \n",
       "mean       0.224942  \n",
       "std        0.417554  \n",
       "min        0.000000  \n",
       "25%        0.000000  \n",
       "50%        0.000000  \n",
       "75%        0.000000  \n",
       "max        1.000000  "
      ]
     },
     "execution_count": 4,
     "metadata": {},
     "output_type": "execute_result"
    }
   ],
   "source": [
    "df.describe()"
   ]
  },
  {
   "cell_type": "code",
   "execution_count": 5,
   "id": "cd2d2fe0",
   "metadata": {},
   "outputs": [
    {
     "data": {
      "text/plain": [
       "9"
      ]
     },
     "execution_count": 5,
     "metadata": {},
     "output_type": "execute_result"
    }
   ],
   "source": [
    "# Let's now find all numeric variables\n",
    "numerics = ['int64', 'int32', 'int64', 'float64', 'float32', 'float64']\n",
    "\n",
    "num_df = df.select_dtypes(include=numerics)\n",
    "len(num_df.columns)"
   ]
  },
  {
   "cell_type": "code",
   "execution_count": 6,
   "id": "6d6e7b9c",
   "metadata": {},
   "outputs": [
    {
     "data": {
      "text/plain": [
       "non_white            1\n",
       "woman                0\n",
       "age                  0\n",
       "education            0\n",
       "work                 0\n",
       "metropolitan_area    0\n",
       "urban                0\n",
       "work_permit          0\n",
       "poverty              0\n",
       "dtype: int64"
      ]
     },
     "execution_count": 6,
     "metadata": {},
     "output_type": "execute_result"
    }
   ],
   "source": [
    "# Percentages of missing values\n",
    "df.isna().sum().sort_values(ascending=False)"
   ]
  },
  {
   "cell_type": "code",
   "execution_count": 7,
   "id": "269986c3",
   "metadata": {},
   "outputs": [],
   "source": [
    "# Dropping missing values - In this case only 1 row.\n",
    "data = df.dropna(axis=0, how='any', thresh=None, subset=None, inplace=False)"
   ]
  },
  {
   "cell_type": "markdown",
   "id": "52ee85fe",
   "metadata": {},
   "source": [
    "#### Gender"
   ]
  },
  {
   "cell_type": "code",
   "execution_count": 8,
   "id": "e6951e65",
   "metadata": {},
   "outputs": [
    {
     "data": {
      "text/plain": [
       "0        0\n",
       "1        0\n",
       "2        0\n",
       "3        1\n",
       "4        1\n",
       "        ..\n",
       "20747    1\n",
       "20748    0\n",
       "20749    0\n",
       "20750    1\n",
       "20751    0\n",
       "Name: woman, Length: 20751, dtype: int64"
      ]
     },
     "execution_count": 8,
     "metadata": {},
     "output_type": "execute_result"
    }
   ],
   "source": [
    "# Female = 1 not female = 0\n",
    "data.woman"
   ]
  },
  {
   "cell_type": "code",
   "execution_count": 9,
   "id": "45547c22",
   "metadata": {},
   "outputs": [
    {
     "data": {
      "text/plain": [
       "2"
      ]
     },
     "execution_count": 9,
     "metadata": {},
     "output_type": "execute_result"
    }
   ],
   "source": [
    "# Let's get the gender types\n",
    "gender_type = df.woman.unique()\n",
    "len(gender_type)"
   ]
  },
  {
   "cell_type": "code",
   "execution_count": 10,
   "id": "556fa4d7",
   "metadata": {},
   "outputs": [
    {
     "data": {
      "text/plain": [
       "0    12584\n",
       "1     8167\n",
       "Name: woman, dtype: int64"
      ]
     },
     "execution_count": 10,
     "metadata": {},
     "output_type": "execute_result"
    }
   ],
   "source": [
    "# Gender within the dataset\n",
    "gender_division = data.woman.value_counts()\n",
    "gender_division"
   ]
  },
  {
   "cell_type": "code",
   "execution_count": 11,
   "id": "50fdeb28",
   "metadata": {},
   "outputs": [
    {
     "data": {
      "text/plain": [
       "<AxesSubplot:>"
      ]
     },
     "execution_count": 11,
     "metadata": {},
     "output_type": "execute_result"
    },
    {
     "data": {
      "image/png": "[encoded data removed]",
      "text/plain": [
       "<Figure size 432x288 with 1 Axes>"
      ]
     },
     "metadata": {
      "needs_background": "light"
     },
     "output_type": "display_data"
    }
   ],
   "source": [
    "# Let's plot this\n",
    "gender_division.plot(kind='barh')"
   ]
  },
  {
   "cell_type": "code",
   "execution_count": 12,
   "id": "2ab800bb",
   "metadata": {},
   "outputs": [
    {
     "name": "stderr",
     "output_type": "stream",
     "text": [
      "C:\\Users\\andre\\anaconda3\\lib\\site-packages\\seaborn\\distributions.py:2619: FutureWarning: `distplot` is a deprecated function and will be removed in a future version. Please adapt your code to use either `displot` (a figure-level function with similar flexibility) or `histplot` (an axes-level function for histograms).\n",
      "  warnings.warn(msg, FutureWarning)\n"
     ]
    },
    {
     "data": {
      "text/plain": [
       "<AxesSubplot:xlabel='woman', ylabel='Density'>"
      ]
     },
     "execution_count": 12,
     "metadata": {},
     "output_type": "execute_result"
    },
    {
     "data": {
      "image/png": "[encoded data removed]",
      "text/plain": [
       "<Figure size 432x288 with 1 Axes>"
      ]
     },
     "metadata": {
      "needs_background": "light"
     },
     "output_type": "display_data"
    }
   ],
   "source": [
    "import seaborn as sns\n",
    "\n",
    "sns.distplot(gender_division) # Normally distributed "
   ]
  },
  {
   "cell_type": "code",
   "execution_count": 13,
   "id": "78b84b74",
   "metadata": {},
   "outputs": [
    {
     "name": "stdout",
     "output_type": "stream",
     "text": [
      "12584 8167\n"
     ]
    }
   ],
   "source": [
    "Male = gender_division[0]\n",
    "Female = gender_division[1]\n",
    "Total = 20751\n",
    "\n",
    "print(Male, Female)"
   ]
  },
  {
   "cell_type": "code",
   "execution_count": 14,
   "id": "63241e7c",
   "metadata": {},
   "outputs": [
    {
     "data": {
      "text/plain": [
       "60.64286058503205"
      ]
     },
     "execution_count": 14,
     "metadata": {},
     "output_type": "execute_result"
    }
   ],
   "source": [
    "Male / Total * 100"
   ]
  },
  {
   "cell_type": "code",
   "execution_count": 15,
   "id": "0b110e9b",
   "metadata": {},
   "outputs": [
    {
     "data": {
      "text/plain": [
       "39.35713941496795"
      ]
     },
     "execution_count": 15,
     "metadata": {},
     "output_type": "execute_result"
    }
   ],
   "source": [
    "Female / Total * 100"
   ]
  },
  {
   "cell_type": "code",
   "execution_count": 16,
   "id": "fe0ccc2e",
   "metadata": {},
   "outputs": [
    {
     "data": {
      "text/plain": [
       "<AxesSubplot:ylabel='woman'>"
      ]
     },
     "execution_count": 16,
     "metadata": {},
     "output_type": "execute_result"
    },
    {
     "data": {
      "image/png": "[encoded data removed]",
      "text/plain": [
       "<Figure size 432x288 with 1 Axes>"
      ]
     },
     "metadata": {},
     "output_type": "display_data"
    }
   ],
   "source": [
    "gender_division.plot(kind = 'pie')"
   ]
  },
  {
   "cell_type": "code",
   "execution_count": 17,
   "id": "7db50df9",
   "metadata": {},
   "outputs": [],
   "source": [
    "# 60% of the dataset is composed by Men and 40% by Women "
   ]
  },
  {
   "cell_type": "markdown",
   "id": "c24260a8",
   "metadata": {},
   "source": [
    "#### Age"
   ]
  },
  {
   "cell_type": "code",
   "execution_count": 18,
   "id": "23f36304",
   "metadata": {},
   "outputs": [
    {
     "data": {
      "text/html": [
       "<div>\n",
       "<style scoped>\n",
       "    .dataframe tbody tr th:only-of-type {\n",
       "        vertical-align: middle;\n",
       "    }\n",
       "\n",
       "    .dataframe tbody tr th {\n",
       "        vertical-align: top;\n",
       "    }\n",
       "\n",
       "    .dataframe thead th {\n",
       "        text-align: right;\n",
       "    }\n",
       "</style>\n",
       "<table border=\"1\" class=\"dataframe\">\n",
       "  <thead>\n",
       "    <tr style=\"text-align: right;\">\n",
       "      <th></th>\n",
       "      <th>woman</th>\n",
       "      <th>age</th>\n",
       "      <th>education</th>\n",
       "      <th>work</th>\n",
       "      <th>metropolitan_area</th>\n",
       "      <th>non_white</th>\n",
       "      <th>urban</th>\n",
       "      <th>work_permit</th>\n",
       "      <th>poverty</th>\n",
       "    </tr>\n",
       "  </thead>\n",
       "  <tbody>\n",
       "    <tr>\n",
       "      <th>0</th>\n",
       "      <td>0</td>\n",
       "      <td>59</td>\n",
       "      <td>5</td>\n",
       "      <td>8</td>\n",
       "      <td>1</td>\n",
       "      <td>1.0</td>\n",
       "      <td>1</td>\n",
       "      <td>2</td>\n",
       "      <td>0</td>\n",
       "    </tr>\n",
       "    <tr>\n",
       "      <th>1</th>\n",
       "      <td>0</td>\n",
       "      <td>21</td>\n",
       "      <td>5</td>\n",
       "      <td>8</td>\n",
       "      <td>1</td>\n",
       "      <td>0.0</td>\n",
       "      <td>1</td>\n",
       "      <td>0</td>\n",
       "      <td>0</td>\n",
       "    </tr>\n",
       "    <tr>\n",
       "      <th>2</th>\n",
       "      <td>0</td>\n",
       "      <td>59</td>\n",
       "      <td>2</td>\n",
       "      <td>9</td>\n",
       "      <td>1</td>\n",
       "      <td>1.0</td>\n",
       "      <td>1</td>\n",
       "      <td>1</td>\n",
       "      <td>0</td>\n",
       "    </tr>\n",
       "    <tr>\n",
       "      <th>3</th>\n",
       "      <td>1</td>\n",
       "      <td>58</td>\n",
       "      <td>5</td>\n",
       "      <td>8</td>\n",
       "      <td>1</td>\n",
       "      <td>1.0</td>\n",
       "      <td>1</td>\n",
       "      <td>2</td>\n",
       "      <td>0</td>\n",
       "    </tr>\n",
       "    <tr>\n",
       "      <th>4</th>\n",
       "      <td>1</td>\n",
       "      <td>56</td>\n",
       "      <td>2</td>\n",
       "      <td>9</td>\n",
       "      <td>1</td>\n",
       "      <td>1.0</td>\n",
       "      <td>1</td>\n",
       "      <td>1</td>\n",
       "      <td>0</td>\n",
       "    </tr>\n",
       "    <tr>\n",
       "      <th>...</th>\n",
       "      <td>...</td>\n",
       "      <td>...</td>\n",
       "      <td>...</td>\n",
       "      <td>...</td>\n",
       "      <td>...</td>\n",
       "      <td>...</td>\n",
       "      <td>...</td>\n",
       "      <td>...</td>\n",
       "      <td>...</td>\n",
       "    </tr>\n",
       "    <tr>\n",
       "      <th>20747</th>\n",
       "      <td>1</td>\n",
       "      <td>46</td>\n",
       "      <td>4</td>\n",
       "      <td>11</td>\n",
       "      <td>1</td>\n",
       "      <td>1.0</td>\n",
       "      <td>1</td>\n",
       "      <td>0</td>\n",
       "      <td>0</td>\n",
       "    </tr>\n",
       "    <tr>\n",
       "      <th>20748</th>\n",
       "      <td>0</td>\n",
       "      <td>47</td>\n",
       "      <td>1</td>\n",
       "      <td>3</td>\n",
       "      <td>1</td>\n",
       "      <td>0.0</td>\n",
       "      <td>1</td>\n",
       "      <td>2</td>\n",
       "      <td>0</td>\n",
       "    </tr>\n",
       "    <tr>\n",
       "      <th>20749</th>\n",
       "      <td>0</td>\n",
       "      <td>41</td>\n",
       "      <td>7</td>\n",
       "      <td>4</td>\n",
       "      <td>1</td>\n",
       "      <td>1.0</td>\n",
       "      <td>1</td>\n",
       "      <td>1</td>\n",
       "      <td>0</td>\n",
       "    </tr>\n",
       "    <tr>\n",
       "      <th>20750</th>\n",
       "      <td>1</td>\n",
       "      <td>42</td>\n",
       "      <td>7</td>\n",
       "      <td>7</td>\n",
       "      <td>1</td>\n",
       "      <td>1.0</td>\n",
       "      <td>1</td>\n",
       "      <td>1</td>\n",
       "      <td>0</td>\n",
       "    </tr>\n",
       "    <tr>\n",
       "      <th>20751</th>\n",
       "      <td>0</td>\n",
       "      <td>49</td>\n",
       "      <td>5</td>\n",
       "      <td>8</td>\n",
       "      <td>1</td>\n",
       "      <td>1.0</td>\n",
       "      <td>1</td>\n",
       "      <td>2</td>\n",
       "      <td>0</td>\n",
       "    </tr>\n",
       "  </tbody>\n",
       "</table>\n",
       "<p>20751 rows × 9 columns</p>\n",
       "</div>"
      ],
      "text/plain": [
       "       woman  age  education  work  metropolitan_area  non_white  urban  \\\n",
       "0          0   59          5     8                  1        1.0      1   \n",
       "1          0   21          5     8                  1        0.0      1   \n",
       "2          0   59          2     9                  1        1.0      1   \n",
       "3          1   58          5     8                  1        1.0      1   \n",
       "4          1   56          2     9                  1        1.0      1   \n",
       "...      ...  ...        ...   ...                ...        ...    ...   \n",
       "20747      1   46          4    11                  1        1.0      1   \n",
       "20748      0   47          1     3                  1        0.0      1   \n",
       "20749      0   41          7     4                  1        1.0      1   \n",
       "20750      1   42          7     7                  1        1.0      1   \n",
       "20751      0   49          5     8                  1        1.0      1   \n",
       "\n",
       "       work_permit  poverty  \n",
       "0                2        0  \n",
       "1                0        0  \n",
       "2                1        0  \n",
       "3                2        0  \n",
       "4                1        0  \n",
       "...            ...      ...  \n",
       "20747            0        0  \n",
       "20748            2        0  \n",
       "20749            1        0  \n",
       "20750            1        0  \n",
       "20751            2        0  \n",
       "\n",
       "[20751 rows x 9 columns]"
      ]
     },
     "execution_count": 18,
     "metadata": {},
     "output_type": "execute_result"
    }
   ],
   "source": [
    "data"
   ]
  },
  {
   "cell_type": "code",
   "execution_count": 19,
   "id": "18a0bf30",
   "metadata": {},
   "outputs": [
    {
     "data": {
      "text/plain": [
       "0        59\n",
       "1        21\n",
       "2        59\n",
       "3        58\n",
       "4        56\n",
       "         ..\n",
       "20747    46\n",
       "20748    47\n",
       "20749    41\n",
       "20750    42\n",
       "20751    49\n",
       "Name: age, Length: 20751, dtype: int64"
      ]
     },
     "execution_count": 19,
     "metadata": {},
     "output_type": "execute_result"
    }
   ],
   "source": [
    "data.age"
   ]
  },
  {
   "cell_type": "code",
   "execution_count": 20,
   "id": "a9efa013",
   "metadata": {},
   "outputs": [
    {
     "data": {
      "text/plain": [
       "40.861018746084525"
      ]
     },
     "execution_count": 20,
     "metadata": {},
     "output_type": "execute_result"
    }
   ],
   "source": [
    "data.age.mean()\n"
   ]
  },
  {
   "cell_type": "code",
   "execution_count": 21,
   "id": "3e5821c7",
   "metadata": {},
   "outputs": [
    {
     "data": {
      "text/plain": [
       "40.0"
      ]
     },
     "execution_count": 21,
     "metadata": {},
     "output_type": "execute_result"
    }
   ],
   "source": [
    "data.age.median()"
   ]
  },
  {
   "cell_type": "code",
   "execution_count": 22,
   "id": "fce6f316",
   "metadata": {},
   "outputs": [
    {
     "data": {
      "text/plain": [
       "76"
      ]
     },
     "execution_count": 22,
     "metadata": {},
     "output_type": "execute_result"
    }
   ],
   "source": [
    "# Let's get the age types\n",
    "age_type = data.age.unique()\n",
    "len(age_type)"
   ]
  },
  {
   "cell_type": "code",
   "execution_count": 23,
   "id": "35f2413b",
   "metadata": {},
   "outputs": [
    {
     "data": {
      "text/plain": [
       "38    630\n",
       "40    625\n",
       "41    618\n",
       "39    592\n",
       "36    585\n",
       "     ... \n",
       "85      1\n",
       "91      1\n",
       "89      1\n",
       "86      1\n",
       "87      1\n",
       "Name: age, Length: 76, dtype: int64"
      ]
     },
     "execution_count": 23,
     "metadata": {},
     "output_type": "execute_result"
    }
   ],
   "source": [
    "# Age per type\n",
    "Age_type = data.age.value_counts()\n",
    "Age_type"
   ]
  },
  {
   "cell_type": "code",
   "execution_count": 24,
   "id": "6e99eff3",
   "metadata": {},
   "outputs": [
    {
     "name": "stderr",
     "output_type": "stream",
     "text": [
      "C:\\Users\\andre\\anaconda3\\lib\\site-packages\\seaborn\\distributions.py:2619: FutureWarning: `distplot` is a deprecated function and will be removed in a future version. Please adapt your code to use either `displot` (a figure-level function with similar flexibility) or `histplot` (an axes-level function for histograms).\n",
      "  warnings.warn(msg, FutureWarning)\n"
     ]
    },
    {
     "data": {
      "text/plain": [
       "<AxesSubplot:xlabel='age', ylabel='Density'>"
      ]
     },
     "execution_count": 24,
     "metadata": {},
     "output_type": "execute_result"
    },
    {
     "data": {
      "image/png": "[encoded data removed]",
      "text/plain": [
       "<Figure size 432x288 with 1 Axes>"
      ]
     },
     "metadata": {
      "needs_background": "light"
     },
     "output_type": "display_data"
    }
   ],
   "source": [
    "sns.distplot(Age_type) "
   ]
  },
  {
   "cell_type": "code",
   "execution_count": 25,
   "id": "7a0f3e11",
   "metadata": {},
   "outputs": [],
   "source": [
    "# The average age of the dataset is 40 years old "
   ]
  },
  {
   "cell_type": "markdown",
   "id": "bd8fdad1",
   "metadata": {},
   "source": [
    "#### Education\n"
   ]
  },
  {
   "cell_type": "code",
   "execution_count": 26,
   "id": "a058d349",
   "metadata": {},
   "outputs": [
    {
     "data": {
      "text/html": [
       "<div>\n",
       "<style scoped>\n",
       "    .dataframe tbody tr th:only-of-type {\n",
       "        vertical-align: middle;\n",
       "    }\n",
       "\n",
       "    .dataframe tbody tr th {\n",
       "        vertical-align: top;\n",
       "    }\n",
       "\n",
       "    .dataframe thead th {\n",
       "        text-align: right;\n",
       "    }\n",
       "</style>\n",
       "<table border=\"1\" class=\"dataframe\">\n",
       "  <thead>\n",
       "    <tr style=\"text-align: right;\">\n",
       "      <th></th>\n",
       "      <th>woman</th>\n",
       "      <th>age</th>\n",
       "      <th>education</th>\n",
       "      <th>work</th>\n",
       "      <th>metropolitan_area</th>\n",
       "      <th>non_white</th>\n",
       "      <th>urban</th>\n",
       "      <th>work_permit</th>\n",
       "      <th>poverty</th>\n",
       "    </tr>\n",
       "  </thead>\n",
       "  <tbody>\n",
       "    <tr>\n",
       "      <th>0</th>\n",
       "      <td>0</td>\n",
       "      <td>59</td>\n",
       "      <td>5</td>\n",
       "      <td>8</td>\n",
       "      <td>1</td>\n",
       "      <td>1.0</td>\n",
       "      <td>1</td>\n",
       "      <td>2</td>\n",
       "      <td>0</td>\n",
       "    </tr>\n",
       "    <tr>\n",
       "      <th>1</th>\n",
       "      <td>0</td>\n",
       "      <td>21</td>\n",
       "      <td>5</td>\n",
       "      <td>8</td>\n",
       "      <td>1</td>\n",
       "      <td>0.0</td>\n",
       "      <td>1</td>\n",
       "      <td>0</td>\n",
       "      <td>0</td>\n",
       "    </tr>\n",
       "    <tr>\n",
       "      <th>2</th>\n",
       "      <td>0</td>\n",
       "      <td>59</td>\n",
       "      <td>2</td>\n",
       "      <td>9</td>\n",
       "      <td>1</td>\n",
       "      <td>1.0</td>\n",
       "      <td>1</td>\n",
       "      <td>1</td>\n",
       "      <td>0</td>\n",
       "    </tr>\n",
       "    <tr>\n",
       "      <th>3</th>\n",
       "      <td>1</td>\n",
       "      <td>58</td>\n",
       "      <td>5</td>\n",
       "      <td>8</td>\n",
       "      <td>1</td>\n",
       "      <td>1.0</td>\n",
       "      <td>1</td>\n",
       "      <td>2</td>\n",
       "      <td>0</td>\n",
       "    </tr>\n",
       "    <tr>\n",
       "      <th>4</th>\n",
       "      <td>1</td>\n",
       "      <td>56</td>\n",
       "      <td>2</td>\n",
       "      <td>9</td>\n",
       "      <td>1</td>\n",
       "      <td>1.0</td>\n",
       "      <td>1</td>\n",
       "      <td>1</td>\n",
       "      <td>0</td>\n",
       "    </tr>\n",
       "    <tr>\n",
       "      <th>...</th>\n",
       "      <td>...</td>\n",
       "      <td>...</td>\n",
       "      <td>...</td>\n",
       "      <td>...</td>\n",
       "      <td>...</td>\n",
       "      <td>...</td>\n",
       "      <td>...</td>\n",
       "      <td>...</td>\n",
       "      <td>...</td>\n",
       "    </tr>\n",
       "    <tr>\n",
       "      <th>20747</th>\n",
       "      <td>1</td>\n",
       "      <td>46</td>\n",
       "      <td>4</td>\n",
       "      <td>11</td>\n",
       "      <td>1</td>\n",
       "      <td>1.0</td>\n",
       "      <td>1</td>\n",
       "      <td>0</td>\n",
       "      <td>0</td>\n",
       "    </tr>\n",
       "    <tr>\n",
       "      <th>20748</th>\n",
       "      <td>0</td>\n",
       "      <td>47</td>\n",
       "      <td>1</td>\n",
       "      <td>3</td>\n",
       "      <td>1</td>\n",
       "      <td>0.0</td>\n",
       "      <td>1</td>\n",
       "      <td>2</td>\n",
       "      <td>0</td>\n",
       "    </tr>\n",
       "    <tr>\n",
       "      <th>20749</th>\n",
       "      <td>0</td>\n",
       "      <td>41</td>\n",
       "      <td>7</td>\n",
       "      <td>4</td>\n",
       "      <td>1</td>\n",
       "      <td>1.0</td>\n",
       "      <td>1</td>\n",
       "      <td>1</td>\n",
       "      <td>0</td>\n",
       "    </tr>\n",
       "    <tr>\n",
       "      <th>20750</th>\n",
       "      <td>1</td>\n",
       "      <td>42</td>\n",
       "      <td>7</td>\n",
       "      <td>7</td>\n",
       "      <td>1</td>\n",
       "      <td>1.0</td>\n",
       "      <td>1</td>\n",
       "      <td>1</td>\n",
       "      <td>0</td>\n",
       "    </tr>\n",
       "    <tr>\n",
       "      <th>20751</th>\n",
       "      <td>0</td>\n",
       "      <td>49</td>\n",
       "      <td>5</td>\n",
       "      <td>8</td>\n",
       "      <td>1</td>\n",
       "      <td>1.0</td>\n",
       "      <td>1</td>\n",
       "      <td>2</td>\n",
       "      <td>0</td>\n",
       "    </tr>\n",
       "  </tbody>\n",
       "</table>\n",
       "<p>20751 rows × 9 columns</p>\n",
       "</div>"
      ],
      "text/plain": [
       "       woman  age  education  work  metropolitan_area  non_white  urban  \\\n",
       "0          0   59          5     8                  1        1.0      1   \n",
       "1          0   21          5     8                  1        0.0      1   \n",
       "2          0   59          2     9                  1        1.0      1   \n",
       "3          1   58          5     8                  1        1.0      1   \n",
       "4          1   56          2     9                  1        1.0      1   \n",
       "...      ...  ...        ...   ...                ...        ...    ...   \n",
       "20747      1   46          4    11                  1        1.0      1   \n",
       "20748      0   47          1     3                  1        0.0      1   \n",
       "20749      0   41          7     4                  1        1.0      1   \n",
       "20750      1   42          7     7                  1        1.0      1   \n",
       "20751      0   49          5     8                  1        1.0      1   \n",
       "\n",
       "       work_permit  poverty  \n",
       "0                2        0  \n",
       "1                0        0  \n",
       "2                1        0  \n",
       "3                2        0  \n",
       "4                1        0  \n",
       "...            ...      ...  \n",
       "20747            0        0  \n",
       "20748            2        0  \n",
       "20749            1        0  \n",
       "20750            1        0  \n",
       "20751            2        0  \n",
       "\n",
       "[20751 rows x 9 columns]"
      ]
     },
     "execution_count": 26,
     "metadata": {},
     "output_type": "execute_result"
    }
   ],
   "source": [
    "data"
   ]
  },
  {
   "cell_type": "code",
   "execution_count": 27,
   "id": "aa39b4e8",
   "metadata": {},
   "outputs": [
    {
     "data": {
      "text/plain": [
       "0        5\n",
       "1        5\n",
       "2        2\n",
       "3        5\n",
       "4        2\n",
       "        ..\n",
       "20747    4\n",
       "20748    1\n",
       "20749    7\n",
       "20750    7\n",
       "20751    5\n",
       "Name: education, Length: 20751, dtype: int64"
      ]
     },
     "execution_count": 27,
     "metadata": {},
     "output_type": "execute_result"
    }
   ],
   "source": [
    "data.education\n",
    "# 1 - No education and less than 1 year of study\n",
    "# 2 - Incomplete elementary or equivalent\n",
    "# 3 - Complete fundamental or equivalent\n",
    "# 4 - Incomplete audio or equivalent\n",
    "# 5 - Complete audio or equivalent\n",
    "# 6 - Incomplete higher or equivalent\n",
    "# 7 - Superior complete"
   ]
  },
  {
   "cell_type": "code",
   "execution_count": 28,
   "id": "3d28785d",
   "metadata": {},
   "outputs": [
    {
     "data": {
      "text/plain": [
       "4.532889981205725"
      ]
     },
     "execution_count": 28,
     "metadata": {},
     "output_type": "execute_result"
    }
   ],
   "source": [
    "data.education.mean()"
   ]
  },
  {
   "cell_type": "code",
   "execution_count": 29,
   "id": "dfd44f24",
   "metadata": {},
   "outputs": [
    {
     "data": {
      "text/plain": [
       "7"
      ]
     },
     "execution_count": 29,
     "metadata": {},
     "output_type": "execute_result"
    }
   ],
   "source": [
    "# Let's get the Education types\n",
    "edu_type = data.education.unique()\n",
    "len(edu_type)"
   ]
  },
  {
   "cell_type": "code",
   "execution_count": 30,
   "id": "7cfb9778",
   "metadata": {},
   "outputs": [
    {
     "data": {
      "text/plain": [
       "5    6644\n",
       "2    4913\n",
       "7    4886\n",
       "3    1583\n",
       "6    1181\n",
       "4    1145\n",
       "1     399\n",
       "Name: education, dtype: int64"
      ]
     },
     "execution_count": 30,
     "metadata": {},
     "output_type": "execute_result"
    }
   ],
   "source": [
    "# Education per type\n",
    "Education_Type = data.education.value_counts()\n",
    "Education_Type"
   ]
  },
  {
   "cell_type": "code",
   "execution_count": 31,
   "id": "28f5aba1",
   "metadata": {},
   "outputs": [
    {
     "data": {
      "text/plain": [
       "<AxesSubplot:>"
      ]
     },
     "execution_count": 31,
     "metadata": {},
     "output_type": "execute_result"
    },
    {
     "data": {
      "image/png": "[encoded data removed]",
      "text/plain": [
       "<Figure size 432x288 with 1 Axes>"
      ]
     },
     "metadata": {
      "needs_background": "light"
     },
     "output_type": "display_data"
    }
   ],
   "source": [
    "# Let's plot this\n",
    "Education_Type.plot(kind='barh')"
   ]
  },
  {
   "cell_type": "code",
   "execution_count": 32,
   "id": "167d58ec",
   "metadata": {},
   "outputs": [
    {
     "name": "stderr",
     "output_type": "stream",
     "text": [
      "C:\\Users\\andre\\anaconda3\\lib\\site-packages\\seaborn\\distributions.py:2619: FutureWarning: `distplot` is a deprecated function and will be removed in a future version. Please adapt your code to use either `displot` (a figure-level function with similar flexibility) or `histplot` (an axes-level function for histograms).\n",
      "  warnings.warn(msg, FutureWarning)\n"
     ]
    },
    {
     "data": {
      "text/plain": [
       "<AxesSubplot:xlabel='education', ylabel='Density'>"
      ]
     },
     "execution_count": 32,
     "metadata": {},
     "output_type": "execute_result"
    },
    {
     "data": {
      "image/png": "[encoded data removed]",
      "text/plain": [
       "<Figure size 432x288 with 1 Axes>"
      ]
     },
     "metadata": {
      "needs_background": "light"
     },
     "output_type": "display_data"
    }
   ],
   "source": [
    "sns.distplot(Education_Type)"
   ]
  },
  {
   "cell_type": "code",
   "execution_count": 33,
   "id": "94c60349",
   "metadata": {},
   "outputs": [
    {
     "name": "stdout",
     "output_type": "stream",
     "text": [
      "399 4913 1583 1145 6644 1181 4886\n"
     ]
    }
   ],
   "source": [
    "No_edu = Education_Type[1]\n",
    "Incomplete_elementary = Education_Type[2]\n",
    "Complete_fundamental = Education_Type[3]\n",
    "Incomplete_audio = Education_Type[4]\n",
    "Complete_audio = Education_Type[5]\n",
    "Incomplete_higher = Education_Type[6]\n",
    "Complete_superior = Education_Type[7]\n",
    "\n",
    "\n",
    "Total = 20751\n",
    "\n",
    "print(No_edu, Incomplete_elementary, Complete_fundamental, Incomplete_audio, Complete_audio, Incomplete_higher, Complete_superior)"
   ]
  },
  {
   "cell_type": "code",
   "execution_count": 34,
   "id": "6ac37a75",
   "metadata": {},
   "outputs": [
    {
     "data": {
      "text/plain": [
       "1.9227989012577706"
      ]
     },
     "execution_count": 34,
     "metadata": {},
     "output_type": "execute_result"
    }
   ],
   "source": [
    "No_edu / Total *100"
   ]
  },
  {
   "cell_type": "code",
   "execution_count": 35,
   "id": "210553bd",
   "metadata": {},
   "outputs": [
    {
     "data": {
      "text/plain": [
       "23.67596742325671"
      ]
     },
     "execution_count": 35,
     "metadata": {},
     "output_type": "execute_result"
    }
   ],
   "source": [
    "Incomplete_elementary / Total*100"
   ]
  },
  {
   "cell_type": "code",
   "execution_count": 36,
   "id": "5f721ed3",
   "metadata": {},
   "outputs": [
    {
     "data": {
      "text/plain": [
       "7.628548021782083"
      ]
     },
     "execution_count": 36,
     "metadata": {},
     "output_type": "execute_result"
    }
   ],
   "source": [
    "Complete_fundamental/Total*100"
   ]
  },
  {
   "cell_type": "code",
   "execution_count": 37,
   "id": "162aadc2",
   "metadata": {},
   "outputs": [
    {
     "data": {
      "text/plain": [
       "5.517806370777311"
      ]
     },
     "execution_count": 37,
     "metadata": {},
     "output_type": "execute_result"
    }
   ],
   "source": [
    "Incomplete_audio/Total*100"
   ]
  },
  {
   "cell_type": "code",
   "execution_count": 38,
   "id": "4aa28b23",
   "metadata": {},
   "outputs": [
    {
     "data": {
      "text/plain": [
       "32.01773408510433"
      ]
     },
     "execution_count": 38,
     "metadata": {},
     "output_type": "execute_result"
    }
   ],
   "source": [
    "Complete_audio/Total*100"
   ]
  },
  {
   "cell_type": "code",
   "execution_count": 39,
   "id": "7e845af2",
   "metadata": {},
   "outputs": [
    {
     "data": {
      "text/plain": [
       "5.691291985928389"
      ]
     },
     "execution_count": 39,
     "metadata": {},
     "output_type": "execute_result"
    }
   ],
   "source": [
    "Incomplete_higher/Total*100"
   ]
  },
  {
   "cell_type": "code",
   "execution_count": 40,
   "id": "4cb7cbe7",
   "metadata": {},
   "outputs": [
    {
     "data": {
      "text/plain": [
       "23.5458532118934"
      ]
     },
     "execution_count": 40,
     "metadata": {},
     "output_type": "execute_result"
    }
   ],
   "source": [
    "Complete_superior/Total*100"
   ]
  },
  {
   "cell_type": "code",
   "execution_count": 41,
   "id": "e7f478c6",
   "metadata": {},
   "outputs": [],
   "source": [
    "# 32% do have a complete basic education 23% with Incomplete basic and 23% with superior education. "
   ]
  },
  {
   "cell_type": "markdown",
   "id": "53953bc5",
   "metadata": {},
   "source": [
    "#### Region"
   ]
  },
  {
   "cell_type": "code",
   "execution_count": 42,
   "id": "ff8184f0",
   "metadata": {},
   "outputs": [
    {
     "data": {
      "text/html": [
       "<div>\n",
       "<style scoped>\n",
       "    .dataframe tbody tr th:only-of-type {\n",
       "        vertical-align: middle;\n",
       "    }\n",
       "\n",
       "    .dataframe tbody tr th {\n",
       "        vertical-align: top;\n",
       "    }\n",
       "\n",
       "    .dataframe thead th {\n",
       "        text-align: right;\n",
       "    }\n",
       "</style>\n",
       "<table border=\"1\" class=\"dataframe\">\n",
       "  <thead>\n",
       "    <tr style=\"text-align: right;\">\n",
       "      <th></th>\n",
       "      <th>woman</th>\n",
       "      <th>age</th>\n",
       "      <th>education</th>\n",
       "      <th>work</th>\n",
       "      <th>metropolitan_area</th>\n",
       "      <th>non_white</th>\n",
       "      <th>urban</th>\n",
       "      <th>work_permit</th>\n",
       "      <th>poverty</th>\n",
       "    </tr>\n",
       "  </thead>\n",
       "  <tbody>\n",
       "    <tr>\n",
       "      <th>0</th>\n",
       "      <td>0</td>\n",
       "      <td>59</td>\n",
       "      <td>5</td>\n",
       "      <td>8</td>\n",
       "      <td>1</td>\n",
       "      <td>1.0</td>\n",
       "      <td>1</td>\n",
       "      <td>2</td>\n",
       "      <td>0</td>\n",
       "    </tr>\n",
       "    <tr>\n",
       "      <th>1</th>\n",
       "      <td>0</td>\n",
       "      <td>21</td>\n",
       "      <td>5</td>\n",
       "      <td>8</td>\n",
       "      <td>1</td>\n",
       "      <td>0.0</td>\n",
       "      <td>1</td>\n",
       "      <td>0</td>\n",
       "      <td>0</td>\n",
       "    </tr>\n",
       "    <tr>\n",
       "      <th>2</th>\n",
       "      <td>0</td>\n",
       "      <td>59</td>\n",
       "      <td>2</td>\n",
       "      <td>9</td>\n",
       "      <td>1</td>\n",
       "      <td>1.0</td>\n",
       "      <td>1</td>\n",
       "      <td>1</td>\n",
       "      <td>0</td>\n",
       "    </tr>\n",
       "    <tr>\n",
       "      <th>3</th>\n",
       "      <td>1</td>\n",
       "      <td>58</td>\n",
       "      <td>5</td>\n",
       "      <td>8</td>\n",
       "      <td>1</td>\n",
       "      <td>1.0</td>\n",
       "      <td>1</td>\n",
       "      <td>2</td>\n",
       "      <td>0</td>\n",
       "    </tr>\n",
       "    <tr>\n",
       "      <th>4</th>\n",
       "      <td>1</td>\n",
       "      <td>56</td>\n",
       "      <td>2</td>\n",
       "      <td>9</td>\n",
       "      <td>1</td>\n",
       "      <td>1.0</td>\n",
       "      <td>1</td>\n",
       "      <td>1</td>\n",
       "      <td>0</td>\n",
       "    </tr>\n",
       "    <tr>\n",
       "      <th>...</th>\n",
       "      <td>...</td>\n",
       "      <td>...</td>\n",
       "      <td>...</td>\n",
       "      <td>...</td>\n",
       "      <td>...</td>\n",
       "      <td>...</td>\n",
       "      <td>...</td>\n",
       "      <td>...</td>\n",
       "      <td>...</td>\n",
       "    </tr>\n",
       "    <tr>\n",
       "      <th>20747</th>\n",
       "      <td>1</td>\n",
       "      <td>46</td>\n",
       "      <td>4</td>\n",
       "      <td>11</td>\n",
       "      <td>1</td>\n",
       "      <td>1.0</td>\n",
       "      <td>1</td>\n",
       "      <td>0</td>\n",
       "      <td>0</td>\n",
       "    </tr>\n",
       "    <tr>\n",
       "      <th>20748</th>\n",
       "      <td>0</td>\n",
       "      <td>47</td>\n",
       "      <td>1</td>\n",
       "      <td>3</td>\n",
       "      <td>1</td>\n",
       "      <td>0.0</td>\n",
       "      <td>1</td>\n",
       "      <td>2</td>\n",
       "      <td>0</td>\n",
       "    </tr>\n",
       "    <tr>\n",
       "      <th>20749</th>\n",
       "      <td>0</td>\n",
       "      <td>41</td>\n",
       "      <td>7</td>\n",
       "      <td>4</td>\n",
       "      <td>1</td>\n",
       "      <td>1.0</td>\n",
       "      <td>1</td>\n",
       "      <td>1</td>\n",
       "      <td>0</td>\n",
       "    </tr>\n",
       "    <tr>\n",
       "      <th>20750</th>\n",
       "      <td>1</td>\n",
       "      <td>42</td>\n",
       "      <td>7</td>\n",
       "      <td>7</td>\n",
       "      <td>1</td>\n",
       "      <td>1.0</td>\n",
       "      <td>1</td>\n",
       "      <td>1</td>\n",
       "      <td>0</td>\n",
       "    </tr>\n",
       "    <tr>\n",
       "      <th>20751</th>\n",
       "      <td>0</td>\n",
       "      <td>49</td>\n",
       "      <td>5</td>\n",
       "      <td>8</td>\n",
       "      <td>1</td>\n",
       "      <td>1.0</td>\n",
       "      <td>1</td>\n",
       "      <td>2</td>\n",
       "      <td>0</td>\n",
       "    </tr>\n",
       "  </tbody>\n",
       "</table>\n",
       "<p>20751 rows × 9 columns</p>\n",
       "</div>"
      ],
      "text/plain": [
       "       woman  age  education  work  metropolitan_area  non_white  urban  \\\n",
       "0          0   59          5     8                  1        1.0      1   \n",
       "1          0   21          5     8                  1        0.0      1   \n",
       "2          0   59          2     9                  1        1.0      1   \n",
       "3          1   58          5     8                  1        1.0      1   \n",
       "4          1   56          2     9                  1        1.0      1   \n",
       "...      ...  ...        ...   ...                ...        ...    ...   \n",
       "20747      1   46          4    11                  1        1.0      1   \n",
       "20748      0   47          1     3                  1        0.0      1   \n",
       "20749      0   41          7     4                  1        1.0      1   \n",
       "20750      1   42          7     7                  1        1.0      1   \n",
       "20751      0   49          5     8                  1        1.0      1   \n",
       "\n",
       "       work_permit  poverty  \n",
       "0                2        0  \n",
       "1                0        0  \n",
       "2                1        0  \n",
       "3                2        0  \n",
       "4                1        0  \n",
       "...            ...      ...  \n",
       "20747            0        0  \n",
       "20748            2        0  \n",
       "20749            1        0  \n",
       "20750            1        0  \n",
       "20751            2        0  \n",
       "\n",
       "[20751 rows x 9 columns]"
      ]
     },
     "execution_count": 42,
     "metadata": {},
     "output_type": "execute_result"
    }
   ],
   "source": [
    "data"
   ]
  },
  {
   "cell_type": "code",
   "execution_count": 43,
   "id": "5053be53",
   "metadata": {},
   "outputs": [
    {
     "data": {
      "text/plain": [
       "0        1\n",
       "1        1\n",
       "2        1\n",
       "3        1\n",
       "4        1\n",
       "        ..\n",
       "20747    1\n",
       "20748    1\n",
       "20749    1\n",
       "20750    1\n",
       "20751    1\n",
       "Name: metropolitan_area, Length: 20751, dtype: int64"
      ]
     },
     "execution_count": 43,
     "metadata": {},
     "output_type": "execute_result"
    }
   ],
   "source": [
    "data.metropolitan_area"
   ]
  },
  {
   "cell_type": "code",
   "execution_count": 44,
   "id": "387a2ed4",
   "metadata": {},
   "outputs": [
    {
     "data": {
      "text/plain": [
       "2"
      ]
     },
     "execution_count": 44,
     "metadata": {},
     "output_type": "execute_result"
    }
   ],
   "source": [
    "# Let's get the Area types\n",
    "area_type = data.metropolitan_area.unique()\n",
    "len(area_type) # There are two types of areas, metropolitan and not metropolitan"
   ]
  },
  {
   "cell_type": "code",
   "execution_count": 45,
   "id": "e9d330bf",
   "metadata": {},
   "outputs": [
    {
     "data": {
      "text/plain": [
       "0    13063\n",
       "1     7688\n",
       "Name: metropolitan_area, dtype: int64"
      ]
     },
     "execution_count": 45,
     "metadata": {},
     "output_type": "execute_result"
    }
   ],
   "source": [
    "# Region per type\n",
    "Region_Type = data.metropolitan_area.value_counts()\n",
    "Region_Type\n",
    "# - 1 Lives in a metropolitan area\n",
    "# - 0 Does not live in a metropolitan area"
   ]
  },
  {
   "cell_type": "code",
   "execution_count": 46,
   "id": "e2c01c55",
   "metadata": {},
   "outputs": [
    {
     "data": {
      "text/plain": [
       "<AxesSubplot:>"
      ]
     },
     "execution_count": 46,
     "metadata": {},
     "output_type": "execute_result"
    },
    {
     "data": {
      "image/png": "[encoded data removed]",
      "text/plain": [
       "<Figure size 432x288 with 1 Axes>"
      ]
     },
     "metadata": {
      "needs_background": "light"
     },
     "output_type": "display_data"
    }
   ],
   "source": [
    "# Let's plot this\n",
    "Region_Type.plot(kind='barh')"
   ]
  },
  {
   "cell_type": "code",
   "execution_count": 47,
   "id": "e7452985",
   "metadata": {},
   "outputs": [],
   "source": [
    "Metropolitan = 7688\n",
    "Not_Metropolitan = 13063"
   ]
  },
  {
   "cell_type": "code",
   "execution_count": 48,
   "id": "87d47283",
   "metadata": {},
   "outputs": [
    {
     "data": {
      "text/plain": [
       "37.048816924485564"
      ]
     },
     "execution_count": 48,
     "metadata": {},
     "output_type": "execute_result"
    }
   ],
   "source": [
    "Metropolitan / Total * 100"
   ]
  },
  {
   "cell_type": "code",
   "execution_count": 49,
   "id": "d6dd6d55",
   "metadata": {},
   "outputs": [
    {
     "data": {
      "text/plain": [
       "62.95118307551443"
      ]
     },
     "execution_count": 49,
     "metadata": {},
     "output_type": "execute_result"
    }
   ],
   "source": [
    "Not_Metropolitan / Total * 100"
   ]
  },
  {
   "cell_type": "code",
   "execution_count": 50,
   "id": "37a441bc",
   "metadata": {},
   "outputs": [],
   "source": [
    "# 37% of the sample analysed lives in a metropolitan area and 63% does not."
   ]
  },
  {
   "cell_type": "markdown",
   "id": "6b3dc375",
   "metadata": {},
   "source": [
    "#### Ethnic / Skin Colour "
   ]
  },
  {
   "cell_type": "code",
   "execution_count": 51,
   "id": "6f9baaeb",
   "metadata": {},
   "outputs": [
    {
     "data": {
      "text/plain": [
       "0        1.0\n",
       "1        0.0\n",
       "2        1.0\n",
       "3        1.0\n",
       "4        1.0\n",
       "        ... \n",
       "20747    1.0\n",
       "20748    0.0\n",
       "20749    1.0\n",
       "20750    1.0\n",
       "20751    1.0\n",
       "Name: non_white, Length: 20751, dtype: float64"
      ]
     },
     "execution_count": 51,
     "metadata": {},
     "output_type": "execute_result"
    }
   ],
   "source": [
    "data.non_white"
   ]
  },
  {
   "cell_type": "code",
   "execution_count": 52,
   "id": "3cd8b31e",
   "metadata": {},
   "outputs": [
    {
     "data": {
      "text/plain": [
       "2"
      ]
     },
     "execution_count": 52,
     "metadata": {},
     "output_type": "execute_result"
    }
   ],
   "source": [
    "# Let's get the Ethnic types\n",
    "skin_colour = data.non_white.unique()\n",
    "len(skin_colour) # There are two types skin clour, White and not White"
   ]
  },
  {
   "cell_type": "code",
   "execution_count": 53,
   "id": "65531693",
   "metadata": {},
   "outputs": [
    {
     "data": {
      "text/plain": [
       "1.0    11322\n",
       "0.0     9429\n",
       "Name: non_white, dtype: int64"
      ]
     },
     "execution_count": 53,
     "metadata": {},
     "output_type": "execute_result"
    }
   ],
   "source": [
    "# Ethnic per type\n",
    "Ethnic = data.non_white.value_counts()\n",
    "Ethnic\n",
    "# - 1 not white (black, brown, yellow and indigenous)\n",
    "# - 0 white"
   ]
  },
  {
   "cell_type": "code",
   "execution_count": 54,
   "id": "9eff5e8b",
   "metadata": {},
   "outputs": [
    {
     "data": {
      "text/plain": [
       "<AxesSubplot:>"
      ]
     },
     "execution_count": 54,
     "metadata": {},
     "output_type": "execute_result"
    },
    {
     "data": {
      "image/png": "[encoded data removed]",
      "text/plain": [
       "<Figure size 432x288 with 1 Axes>"
      ]
     },
     "metadata": {
      "needs_background": "light"
     },
     "output_type": "display_data"
    }
   ],
   "source": [
    "# Let's plot this\n",
    "Ethnic.plot(kind='barh')"
   ]
  },
  {
   "cell_type": "code",
   "execution_count": 55,
   "id": "5f855ddb",
   "metadata": {},
   "outputs": [],
   "source": [
    "White = 9429\n",
    "Not_White = 11322"
   ]
  },
  {
   "cell_type": "code",
   "execution_count": 56,
   "id": "ae822700",
   "metadata": {},
   "outputs": [
    {
     "data": {
      "text/plain": [
       "45.43877403498627"
      ]
     },
     "execution_count": 56,
     "metadata": {},
     "output_type": "execute_result"
    }
   ],
   "source": [
    "White / Total * 100"
   ]
  },
  {
   "cell_type": "code",
   "execution_count": 57,
   "id": "5eac0c5b",
   "metadata": {},
   "outputs": [
    {
     "data": {
      "text/plain": [
       "54.56122596501374"
      ]
     },
     "execution_count": 57,
     "metadata": {},
     "output_type": "execute_result"
    }
   ],
   "source": [
    "Not_White / Total *100"
   ]
  },
  {
   "cell_type": "code",
   "execution_count": 58,
   "id": "4bb7092c",
   "metadata": {},
   "outputs": [],
   "source": [
    "# 45% of the sample is white and 55% is not "
   ]
  },
  {
   "cell_type": "markdown",
   "id": "261db9f6",
   "metadata": {},
   "source": [
    "#### Work Status"
   ]
  },
  {
   "cell_type": "code",
   "execution_count": 59,
   "id": "984f9739",
   "metadata": {},
   "outputs": [
    {
     "data": {
      "text/plain": [
       "0        2\n",
       "1        0\n",
       "2        1\n",
       "3        2\n",
       "4        1\n",
       "        ..\n",
       "20747    0\n",
       "20748    2\n",
       "20749    1\n",
       "20750    1\n",
       "20751    2\n",
       "Name: work_permit, Length: 20751, dtype: int64"
      ]
     },
     "execution_count": 59,
     "metadata": {},
     "output_type": "execute_result"
    }
   ],
   "source": [
    "data.work_permit"
   ]
  },
  {
   "cell_type": "code",
   "execution_count": 60,
   "id": "0dbf6b93",
   "metadata": {},
   "outputs": [
    {
     "data": {
      "text/plain": [
       "3"
      ]
     },
     "execution_count": 60,
     "metadata": {},
     "output_type": "execute_result"
    }
   ],
   "source": [
    "# Let's get the Work_Status types\n",
    "work_status = data.work_permit.unique()\n",
    "len(work_status) # There are three types of work permit. \n",
    "# 0 - does not have a work permit\n",
    "# 1 - has a work permit\n",
    "# 2 - other situations, employer, civil servant"
   ]
  },
  {
   "cell_type": "code",
   "execution_count": 61,
   "id": "64821fef",
   "metadata": {},
   "outputs": [
    {
     "data": {
      "text/plain": [
       "2    9274\n",
       "1    7696\n",
       "0    3781\n",
       "Name: work_permit, dtype: int64"
      ]
     },
     "execution_count": 61,
     "metadata": {},
     "output_type": "execute_result"
    }
   ],
   "source": [
    "# Work Permit per type\n",
    "Work_Statuts = data.work_permit.value_counts()\n",
    "Work_Statuts"
   ]
  },
  {
   "cell_type": "code",
   "execution_count": 62,
   "id": "6465e996",
   "metadata": {},
   "outputs": [
    {
     "data": {
      "text/plain": [
       "<AxesSubplot:>"
      ]
     },
     "execution_count": 62,
     "metadata": {},
     "output_type": "execute_result"
    },
    {
     "data": {
      "image/png": "[encoded data removed]",
      "text/plain": [
       "<Figure size 432x288 with 1 Axes>"
      ]
     },
     "metadata": {
      "needs_background": "light"
     },
     "output_type": "display_data"
    }
   ],
   "source": [
    "# Let's plot this\n",
    "Work_Statuts.plot(kind='barh')"
   ]
  },
  {
   "cell_type": "code",
   "execution_count": 63,
   "id": "0d602c61",
   "metadata": {},
   "outputs": [],
   "source": [
    "No_work_Permit = 3781\n",
    "Has_Work_Permit = 7696\n",
    "Other = 9274"
   ]
  },
  {
   "cell_type": "code",
   "execution_count": 64,
   "id": "41b8f995",
   "metadata": {},
   "outputs": [
    {
     "data": {
      "text/plain": [
       "18.2208086357284"
      ]
     },
     "execution_count": 64,
     "metadata": {},
     "output_type": "execute_result"
    }
   ],
   "source": [
    "No_work_Permit / Total * 100"
   ]
  },
  {
   "cell_type": "code",
   "execution_count": 65,
   "id": "b674890e",
   "metadata": {},
   "outputs": [
    {
     "data": {
      "text/plain": [
       "37.08736928340803"
      ]
     },
     "execution_count": 65,
     "metadata": {},
     "output_type": "execute_result"
    }
   ],
   "source": [
    "Has_Work_Permit / Total * 100"
   ]
  },
  {
   "cell_type": "code",
   "execution_count": 66,
   "id": "02f8f337",
   "metadata": {},
   "outputs": [
    {
     "data": {
      "text/plain": [
       "44.691822080863574"
      ]
     },
     "execution_count": 66,
     "metadata": {},
     "output_type": "execute_result"
    }
   ],
   "source": [
    "Other / Total *100"
   ]
  },
  {
   "cell_type": "code",
   "execution_count": 67,
   "id": "a262992b",
   "metadata": {},
   "outputs": [],
   "source": [
    "# 18% does not have work permit, 37% does have it, and 45% is in other situations as described above."
   ]
  },
  {
   "cell_type": "markdown",
   "id": "aaa4e34f",
   "metadata": {},
   "source": [
    "#### Poverty "
   ]
  },
  {
   "cell_type": "code",
   "execution_count": 68,
   "id": "dcebfe63",
   "metadata": {},
   "outputs": [
    {
     "data": {
      "text/plain": [
       "0        0\n",
       "1        0\n",
       "2        0\n",
       "3        0\n",
       "4        0\n",
       "        ..\n",
       "20747    0\n",
       "20748    0\n",
       "20749    0\n",
       "20750    0\n",
       "20751    0\n",
       "Name: poverty, Length: 20751, dtype: int64"
      ]
     },
     "execution_count": 68,
     "metadata": {},
     "output_type": "execute_result"
    }
   ],
   "source": [
    "data.poverty"
   ]
  },
  {
   "cell_type": "code",
   "execution_count": 69,
   "id": "2accd1bc",
   "metadata": {},
   "outputs": [
    {
     "data": {
      "text/plain": [
       "2"
      ]
     },
     "execution_count": 69,
     "metadata": {},
     "output_type": "execute_result"
    }
   ],
   "source": [
    "# Let's get the Work_Status types\n",
    "social_situation = data.poverty.unique()\n",
    "len(social_situation) # There are two types of social_status. \n",
    "# 1 - was poor in 2020 interview\n",
    "# 0 - not poor in 2020 interview\n",
    "\n",
    "# poverty: individuals who received less than BRL 457 in 2020. \n",
    "# BRL 457 is approx. £73 and $87 in current exchange rate as of 07/2022"
   ]
  },
  {
   "cell_type": "code",
   "execution_count": 70,
   "id": "2d7318d5",
   "metadata": {},
   "outputs": [
    {
     "data": {
      "text/plain": [
       "0    16083\n",
       "1     4668\n",
       "Name: poverty, dtype: int64"
      ]
     },
     "execution_count": 70,
     "metadata": {},
     "output_type": "execute_result"
    }
   ],
   "source": [
    "# Social Status Permit per type\n",
    "Poverty = data.poverty.value_counts()\n",
    "Poverty"
   ]
  },
  {
   "cell_type": "code",
   "execution_count": 71,
   "id": "0d7fb3fa",
   "metadata": {},
   "outputs": [
    {
     "data": {
      "text/plain": [
       "<AxesSubplot:>"
      ]
     },
     "execution_count": 71,
     "metadata": {},
     "output_type": "execute_result"
    },
    {
     "data": {
      "image/png": "[encoded data removed]",
      "text/plain": [
       "<Figure size 432x288 with 1 Axes>"
      ]
     },
     "metadata": {
      "needs_background": "light"
     },
     "output_type": "display_data"
    }
   ],
   "source": [
    "# Let's plot this\n",
    "Poverty.plot(kind='barh')"
   ]
  },
  {
   "cell_type": "code",
   "execution_count": 72,
   "id": "17ef0547",
   "metadata": {},
   "outputs": [],
   "source": [
    "Not_Poor = 16083\n",
    "Poor = 4668"
   ]
  },
  {
   "cell_type": "code",
   "execution_count": 73,
   "id": "15ec6639",
   "metadata": {},
   "outputs": [
    {
     "data": {
      "text/plain": [
       "77.50469856874368"
      ]
     },
     "execution_count": 73,
     "metadata": {},
     "output_type": "execute_result"
    }
   ],
   "source": [
    "Not_Poor / Total * 100"
   ]
  },
  {
   "cell_type": "code",
   "execution_count": 74,
   "id": "768d6078",
   "metadata": {},
   "outputs": [
    {
     "data": {
      "text/plain": [
       "22.495301431256326"
      ]
     },
     "execution_count": 74,
     "metadata": {},
     "output_type": "execute_result"
    }
   ],
   "source": [
    "Poor / Total *100"
   ]
  },
  {
   "cell_type": "code",
   "execution_count": 75,
   "id": "d3b4e07e",
   "metadata": {},
   "outputs": [],
   "source": [
    "# 78% was not poor in 2020 and 22% was poor in 2020. "
   ]
  },
  {
   "cell_type": "markdown",
   "id": "e0c6b95a",
   "metadata": {},
   "source": [
    "##### Let's now explore more the characteristics of those in poverty "
   ]
  },
  {
   "cell_type": "code",
   "execution_count": 81,
   "id": "d09a35c3",
   "metadata": {},
   "outputs": [
    {
     "data": {
      "text/plain": [
       "poverty  non_white\n",
       "0        0.0          8113\n",
       "         1.0          7970\n",
       "1        0.0          1316\n",
       "         1.0          3352\n",
       "Name: age, dtype: int64"
      ]
     },
     "execution_count": 81,
     "metadata": {},
     "output_type": "execute_result"
    }
   ],
   "source": [
    "data.groupby(['poverty','non_white'])['age'].count()\n",
    "# - 1 not white (black, brown, yellow and indigenous)\n",
    "# - 0 white"
   ]
  },
  {
   "cell_type": "code",
   "execution_count": 82,
   "id": "c1b3131b",
   "metadata": {},
   "outputs": [],
   "source": [
    "# Being poor and and not white equals 3352\n",
    "# Being Poor and and white equals 1316\n",
    "# Not poor and not white equals 7970\n",
    "# Not poor and white equals 8113"
   ]
  },
  {
   "cell_type": "code",
   "execution_count": 83,
   "id": "a42f3795",
   "metadata": {},
   "outputs": [
    {
     "data": {
      "text/plain": [
       "poverty  education\n",
       "0        1             161\n",
       "         2            2972\n",
       "         3            1129\n",
       "         4             779\n",
       "         5            5334\n",
       "         6            1041\n",
       "         7            4667\n",
       "1        1             238\n",
       "         2            1941\n",
       "         3             454\n",
       "         4             366\n",
       "         5            1310\n",
       "         6             140\n",
       "         7             219\n",
       "Name: age, dtype: int64"
      ]
     },
     "execution_count": 83,
     "metadata": {},
     "output_type": "execute_result"
    }
   ],
   "source": [
    "data.groupby(['poverty','education'])['age'].count()\n",
    "# 1 - No education and less than 1 year of study\n",
    "# 2 - Incomplete elementary or equivalent\n",
    "# 3 - Complete fundamental or equivalent\n",
    "# 4 - Incomplete audio or equivalent\n",
    "# 5 - Complete audio or equivalent\n",
    "# 6 - Incomplete higher or equivalent\n",
    "# 7 - Superior complete"
   ]
  },
  {
   "cell_type": "code",
   "execution_count": null,
   "id": "9f6a673d",
   "metadata": {},
   "outputs": [],
   "source": [
    "# Poor and with incomplete elementary education is the majority of poor "
   ]
  },
  {
   "cell_type": "code",
   "execution_count": null,
   "id": "f832b855",
   "metadata": {},
   "outputs": [],
   "source": []
  },
  {
   "cell_type": "code",
   "execution_count": null,
   "id": "661911d2",
   "metadata": {},
   "outputs": [],
   "source": []
  },
  {
   "cell_type": "markdown",
   "id": "c832dd3c",
   "metadata": {},
   "source": [
    "##### Logistic Regression \n",
    "###### The goal is to find a relationship between Poverty and the other variables. In addition, we will predict the probability \n",
    "###### of an individual being poor based on their personal characteristics such as gender, skin colour, education, age etc. "
   ]
  },
  {
   "attachments": {
    "logistic%20regression.jpg": {
     "image/jpeg": "[encoded data removed]"
    }
   },
   "cell_type": "markdown",
   "id": "8db0379e",
   "metadata": {},
   "source": [
    "![logistic%20regression.jpg](attachment:logistic%20regression.jpg)"
   ]
  },
  {
   "cell_type": "code",
   "execution_count": 84,
   "id": "c56d11eb",
   "metadata": {},
   "outputs": [],
   "source": [
    "# This is the logistic regression formula that we are going to use to find association between our explanatory variables\n",
    "# and our dependent variable, which is (y = Poverty)"
   ]
  },
  {
   "attachments": {
    "Logistic%20Regression%20graph.jpg": {
     "image/jpeg": "[encoded data removed]"
    }
   },
   "cell_type": "markdown",
   "id": "e275c4ab",
   "metadata": {},
   "source": [
    "![Logistic%20Regression%20graph.jpg](attachment:Logistic%20Regression%20graph.jpg)"
   ]
  },
  {
   "cell_type": "code",
   "execution_count": 85,
   "id": "c1133180",
   "metadata": {},
   "outputs": [],
   "source": [
    "# This is the graph of a logistic regression. Note that there is no linearity like a linear regression. The reason for this,\n",
    "# is because our dependent variable is categorical that is \"Yes\" or \"No\".  "
   ]
  },
  {
   "cell_type": "code",
   "execution_count": 90,
   "id": "e9cba4b9",
   "metadata": {},
   "outputs": [],
   "source": [
    "# The libraries we are going to need are\n",
    "import pylab as pl\n",
    "import numpy as np\n",
    "import scipy.optimize as opt\n",
    "from sklearn import preprocessing \n",
    "%matplotlib inline\n",
    "import matplotlib.pyplot as plt"
   ]
  },
  {
   "cell_type": "code",
   "execution_count": 94,
   "id": "805b5fab",
   "metadata": {},
   "outputs": [
    {
     "data": {
      "text/plain": [
       "Index(['woman', 'age', 'education', 'work', 'metropolitan_area', 'non_white',\n",
       "       'urban', 'work_permit', 'poverty'],\n",
       "      dtype='object')"
      ]
     },
     "execution_count": 94,
     "metadata": {},
     "output_type": "execute_result"
    }
   ],
   "source": [
    "data.columns"
   ]
  },
  {
   "cell_type": "code",
   "execution_count": 95,
   "id": "2dd276c1",
   "metadata": {},
   "outputs": [
    {
     "data": {
      "text/plain": [
       "array([[ 0., 59.,  5.,  8.,  1.,  1.,  2.],\n",
       "       [ 0., 21.,  5.,  8.,  1.,  0.,  0.],\n",
       "       [ 0., 59.,  2.,  9.,  1.,  1.,  1.],\n",
       "       [ 1., 58.,  5.,  8.,  1.,  1.,  2.],\n",
       "       [ 1., 56.,  2.,  9.,  1.,  1.,  1.]])"
      ]
     },
     "execution_count": 95,
     "metadata": {},
     "output_type": "execute_result"
    }
   ],
   "source": [
    "X = np.asarray(data[['woman', 'age', 'education', 'work', 'metropolitan_area', 'non_white', 'work_permit']])\n",
    "X[0:5]"
   ]
  },
  {
   "cell_type": "code",
   "execution_count": 96,
   "id": "8f62c09e",
   "metadata": {},
   "outputs": [
    {
     "data": {
      "text/plain": [
       "array([0, 0, 0, 0, 0], dtype=int64)"
      ]
     },
     "execution_count": 96,
     "metadata": {},
     "output_type": "execute_result"
    }
   ],
   "source": [
    "y = np.asarray(data['poverty'])\n",
    "y[0:5]"
   ]
  },
  {
   "cell_type": "code",
   "execution_count": 101,
   "id": "65942b13",
   "metadata": {},
   "outputs": [
    {
     "data": {
      "text/plain": [
       "array([[-0.80560457,  1.43983719,  0.24689738,  0.83692477,  1.30351123,\n",
       "         0.91258062,  0.98340264],\n",
       "       [-0.80560457, -1.57652919,  0.24689738,  0.83692477,  1.30351123,\n",
       "        -1.09579359, -1.69146801],\n",
       "       [-0.80560457,  1.43983719, -1.3387936 ,  1.15189287,  1.30351123,\n",
       "         0.91258062, -0.35403268],\n",
       "       [ 1.24130378,  1.36045912,  0.24689738,  0.83692477,  1.30351123,\n",
       "         0.91258062,  0.98340264],\n",
       "       [ 1.24130378,  1.201703  , -1.3387936 ,  1.15189287,  1.30351123,\n",
       "         0.91258062, -0.35403268]])"
      ]
     },
     "execution_count": 101,
     "metadata": {},
     "output_type": "execute_result"
    }
   ],
   "source": [
    "X = preprocessing.StandardScaler().fit(X).transform(X)\n",
    "X[0:5] "
   ]
  },
  {
   "cell_type": "code",
   "execution_count": 103,
   "id": "537f1c26",
   "metadata": {},
   "outputs": [
    {
     "name": "stdout",
     "output_type": "stream",
     "text": [
      "Train set: (14525, 7) (14525,)\n",
      "Test set: (6226, 7) (6226,)\n"
     ]
    }
   ],
   "source": [
    "# Train and Test the dataset\n",
    "from sklearn.model_selection import train_test_split\n",
    "X_train, X_test, y_train, y_test = train_test_split (X, y, test_size=0.3, random_state=4)\n",
    "print('Train set:', X_train.shape, y_train.shape)\n",
    "print('Test set:', X_test.shape, y_test.shape)"
   ]
  },
  {
   "cell_type": "code",
   "execution_count": 105,
   "id": "bea16476",
   "metadata": {},
   "outputs": [
    {
     "data": {
      "text/plain": [
       "LogisticRegression(C=0.01, solver='liblinear')"
      ]
     },
     "execution_count": 105,
     "metadata": {},
     "output_type": "execute_result"
    }
   ],
   "source": [
    "# Modeling the regression\n",
    "from sklearn.linear_model import LogisticRegression\n",
    "from sklearn.metrics import confusion_matrix\n",
    "LR = LogisticRegression(C=0.01, solver='liblinear').fit(X_train,y_train)\n",
    "LR"
   ]
  },
  {
   "cell_type": "code",
   "execution_count": 106,
   "id": "111937b3",
   "metadata": {},
   "outputs": [
    {
     "data": {
      "text/plain": [
       "array([0, 0, 0, ..., 0, 0, 0], dtype=int64)"
      ]
     },
     "execution_count": 106,
     "metadata": {},
     "output_type": "execute_result"
    }
   ],
   "source": [
    "yhat = LR.predict(X_test)\n",
    "yhat"
   ]
  },
  {
   "cell_type": "code",
   "execution_count": 108,
   "id": "8901ac43",
   "metadata": {},
   "outputs": [
    {
     "data": {
      "text/plain": [
       "array([[0.6061929 , 0.3938071 ],\n",
       "       [0.50693278, 0.49306722],\n",
       "       [0.67010456, 0.32989544],\n",
       "       ...,\n",
       "       [0.90951234, 0.09048766],\n",
       "       [0.59711463, 0.40288537],\n",
       "       [0.89235053, 0.10764947]])"
      ]
     },
     "execution_count": 108,
     "metadata": {},
     "output_type": "execute_result"
    }
   ],
   "source": [
    "yhat_prob = LR.predict_proba(X_test)\n",
    "yhat_prob # first column is the prob of class 1 P(Y=1|X) and second column is prob of class 0, P(Y=0|X)"
   ]
  },
  {
   "cell_type": "code",
   "execution_count": 111,
   "id": "368d674a",
   "metadata": {},
   "outputs": [
    {
     "data": {
      "text/plain": [
       "0.15532178217821782"
      ]
     },
     "execution_count": 111,
     "metadata": {},
     "output_type": "execute_result"
    }
   ],
   "source": [
    "# Jaccard index for accuracy\n",
    "from sklearn.metrics import jaccard_score\n",
    "jaccard_score(y_test, yhat)"
   ]
  },
  {
   "cell_type": "code",
   "execution_count": null,
   "id": "180d4bce",
   "metadata": {},
   "outputs": [],
   "source": []
  }
 ],
 "metadata": {
  "kernelspec": {
   "display_name": "Python 3 (ipykernel)",
   "language": "python",
   "name": "python3"
  },
  "language_info": {
   "codemirror_mode": {
    "name": "ipython",
    "version": 3
   },
   "file_extension": ".py",
   "mimetype": "text/x-python",
   "name": "python",
   "nbconvert_exporter": "python",
   "pygments_lexer": "ipython3",
   "version": "3.9.12"
  }
 },
 "nbformat": 4,
 "nbformat_minor": 5
}
